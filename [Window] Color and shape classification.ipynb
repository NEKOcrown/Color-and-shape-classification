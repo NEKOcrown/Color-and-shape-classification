{
 "cells": [
  {
   "cell_type": "code",
   "execution_count": 1,
   "id": "f089951a",
   "metadata": {},
   "outputs": [],
   "source": [
    "import cv2\n",
    "import numpy as np"
   ]
  },
  {
   "cell_type": "code",
   "execution_count": 2,
   "id": "123f694f",
   "metadata": {},
   "outputs": [],
   "source": [
    "def empty(img):\n",
    "    pass\n",
    "\n",
    "video=cv2.VideoCapture(0) #Source\n",
    "\n",
    "cv2.namedWindow(\"TrackBar\")\n",
    "cv2.resizeWindow(\"TrackBar\" ,600 ,300)\n",
    "cv2.createTrackbar(\"hue_min\" ,\"TrackBar\", 0, 179, empty)\n",
    "cv2.createTrackbar(\"hue_max\" ,\"TrackBar\", 179, 179, empty)\n",
    "cv2.createTrackbar(\"sat_min\" ,\"TrackBar\", 0, 255, empty)\n",
    "cv2.createTrackbar(\"sat_max\" ,\"TrackBar\", 255, 255, empty)\n",
    "cv2.createTrackbar(\"val_min\" ,\"TrackBar\", 0, 255, empty)\n",
    "cv2.createTrackbar(\"val_max\" ,\"TrackBar\", 255, 255, empty)"
   ]
  },
  {
   "cell_type": "code",
   "execution_count": 3,
   "id": "0eb2e4fb",
   "metadata": {},
   "outputs": [],
   "source": [
    "while True:\n",
    "    ret,img=video.read()\n",
    "    hsv=cv2.cvtColor(img, cv2.COLOR_BGR2HSV) #convert Color\n",
    "    \n",
    "    hue_min=cv2.getTrackbarPos(\"hue_min\" ,\"TrackBar\")\n",
    "    hue_max=cv2.getTrackbarPos(\"hue_max\" ,\"TrackBar\")\n",
    "    sat_min=cv2.getTrackbarPos(\"sat_min\" ,\"TrackBar\")\n",
    "    sat_max=cv2.getTrackbarPos(\"sat_max\" ,\"TrackBar\")\n",
    "    val_min=cv2.getTrackbarPos(\"val_min\" ,\"TrackBar\")\n",
    "    val_max=cv2.getTrackbarPos(\"val_max\" ,\"TrackBar\")\n",
    "\n",
    "    lower=np.array([hue_min, sat_min, val_min])\n",
    "    upper=np.array([hue_max, sat_max, val_max])\n",
    "    mask=cv2.inRange(hsv, lower, upper)\n",
    "    cnts, hei=cv2.findContours(mask, cv2.RETR_EXTERNAL, cv2.CHAIN_APPROX_NONE)\n",
    "    for c in cnts:\n",
    "        area=cv2.contourArea(c)\n",
    "        if area>300:\n",
    "            peri=cv2.arcLength(c, True)\n",
    "            approx=cv2.approxPolyDP(c, 0.02*peri, True)\n",
    "            x,y,w,h=cv2.boundingRect(c)\n",
    "            cv2.rectangle(img, (x,y), (x+w, y+h), (0,255,0), 2)\n",
    "            cv2.putText(img, \"Points: \"+str(len(approx)), (x+w+20, y+h+20), cv2.FONT_HERSHEY_COMPLEX, 0.7, (0,255,0), 2)\n",
    "        if len(approx)==4:\n",
    "            cv2.putText(img, \"Rectangle\", (x+w+20, y+h+45), cv2.FONT_HERSHEY_COMPLEX, 0.7, (0,255,0), 2)\n",
    "        elif len(approx)==3:\n",
    "            cv2.putText(img, \"Triangle\", (x+w+20, y+h+45), cv2.FONT_HERSHEY_COMPLEX, 0.7, (255,255,0), 2)\n",
    "        else:\n",
    "            cv2.putText(img, \"Circle\", (x+w+20, y+h+45), cv2.FONT_HERSHEY_COMPLEX, 0.7, (0,255,255), 2)\n",
    "    cv2.imshow(\"Frame\",img) #capture Frame\n",
    "    cv2.imshow(\"HSV\",hsv) #capture HSV \n",
    "    cv2.imshow(\"Mask\",mask) #capture Mask \n",
    "\n",
    "    k=cv2.waitKey(1)\n",
    "    if k==ord('q'):\n",
    "        break\n",
    "        \n",
    "        \n",
    "video.release()\n",
    "cv2.destroyAllWindows()"
   ]
  }
 ],
 "metadata": {
  "kernelspec": {
   "display_name": "color",
   "language": "python",
   "name": "color"
  },
  "language_info": {
   "codemirror_mode": {
    "name": "ipython",
    "version": 3
   },
   "file_extension": ".py",
   "mimetype": "text/x-python",
   "name": "python",
   "nbconvert_exporter": "python",
   "pygments_lexer": "ipython3",
   "version": "3.7.13"
  }
 },
 "nbformat": 4,
 "nbformat_minor": 5
}
